{
 "cells": [
  {
   "cell_type": "code",
   "execution_count": 1,
   "id": "d31ded09-992e-4173-8f5c-be360deb415d",
   "metadata": {},
   "outputs": [],
   "source": [
    "import wget\n",
    "import pandas as pd\n",
    "import numpy as np\n",
    "from Bio import Entrez\n",
    "import Bio\n",
    "import gzip\n",
    "import sys\n",
    "import csv\n",
    "import math\n",
    "import os"
   ]
  },
  {
   "cell_type": "code",
   "execution_count": 2,
   "id": "7141fbd8-308e-4cbc-aa19-34c8f2b0975c",
   "metadata": {},
   "outputs": [],
   "source": [
    "#Step1 transform gz file to csv file\n",
    "def download_extract(url):\n",
    "        #os.chdir(r\"C:\\Users\\D.M\\Desktop\\pipeline_CGN\\data\")\n",
    "        filename = wget.detect_filename(url)\n",
    "        wget.download(url)\n",
    "        with gzip.open(filename, 'r') as f1, open('data/gene2.txt', 'w') as f2:\n",
    "            con = f1.readlines()\n",
    "            for line in con:\n",
    "# For the content read from the gz file, you should use decode() to convert it, otherwise it will report an error：TypeError: write() argument must be str, not bytes\n",
    "                f2.write(line.decode('utf-8') )\n",
    "        \n",
    "#Convert space-separated plain text files to comma-separated files with the same name\n",
    "        with open('data/all_PubMed.csv', 'w+',newline='') as csvfile:\n",
    "             spamwriter = csv.writer(csvfile, dialect='excel')\n",
    "             with open('data/gene2.txt', 'r',encoding='utf-8') as filein:\n",
    "                for line in filein:\n",
    "                    line_list = line.strip('\\n').split('\\t')\n",
    "                    spamwriter.writerow(line_list)"
   ]
  },
  {
   "cell_type": "code",
   "execution_count": 3,
   "id": "c2fae35a-a928-4476-a841-c84360cd05a0",
   "metadata": {},
   "outputs": [],
   "source": [
    "#Step2 Search papers with cancer as a topic\n",
    "def download_relatedpaper():\n",
    "    Entrez.email = \"571147054@qq.com\"     # Always tell NCBI who you are\n",
    "    handle = Entrez.einfo()\n",
    "    result = handle.read()\n",
    "    handle = Entrez.esearch(db='pubmed',term='cancer',mindate='1990/01/01',maxdate='2022/04/01',retmode='txt',retmax='10000000')\n",
    "    record = Entrez.read(handle)\n",
    "    txt = record[\"IdList\"]\n",
    "    f = open (r'data/cancer6_1.txt','w')\n",
    "    print (txt,file = f)\n",
    "    f.close()"
   ]
  },
  {
   "cell_type": "code",
   "execution_count": 4,
   "id": "3f6ffa03-2bca-431c-a8b2-f3a430edede0",
   "metadata": {},
   "outputs": [],
   "source": [
    "#Step3 filter the cancer paper pubmed and gene ID from the all data\n",
    "def filter_humangenepaper(dataset):\n",
    "        df = pd.read_csv(dataset,sep=',+\\s',engine='python')\n",
    "        df.T.to_csv('data/cancer6_1转置.csv')\n",
    "        df1 = pd.read_csv('data/cancer6_1转置.csv')\n",
    "        #df1\n",
    "        df2 = df1.applymap(lambda x: x.replace('[',''))\n",
    "        df3 = df2.applymap(lambda x: x.replace(']',''))\n",
    "        df4 = df3.applymap(lambda x: x.replace(\"'\",\"\"))\n",
    "        df4.columns = ['PubMed_ID']\n",
    "        df4.to_csv('data/cancer6_1_final.csv',index=0)\n",
    "        df5 = pd.read_csv('data/cancer6_1_final.csv')\n",
    "        #df5\n",
    "        #filter cancer paper with pubmedID\n",
    "        df6 = pd.read_csv('data/all_PubMed.csv')\n",
    "        df7 = pd.merge(df6,df5,on='PubMed_ID')\n",
    "        df8 = df7.to_csv('data/filiting cancer with geneID.csv')\n",
    "        df8 = pd.read_csv('data/filiting cancer with geneID.csv')\n",
    "        df9 = df7.loc[df7['#tax_id']==9606]\n",
    "        df9.to_csv('data/filtered 9606.csv',index=0)"
   ]
  },
  {
   "cell_type": "code",
   "execution_count": 2,
   "id": "804c11d3-91e5-4d9a-8416-a434e7cfed86",
   "metadata": {},
   "outputs": [],
   "source": [
    "#permutation\n",
    "def get_source_target(data, step, select_data, target_num):\n",
    "#If a set was completed , output the current set\n",
    "    if len(select_data) == target_num:\n",
    "        print(select_data)\n",
    "        return\n",
    "    if step >= len(data):\n",
    "        return\n",
    "#Add the selected elements to the temporary output list,output a group of n \n",
    "    select_data.append(data[step])\n",
    "    get_source_target(data, step + 1, select_data, target_num)\n",
    "#To construct a new combination, first delete the elements to be excluded from the last output group\n",
    "    select_data.pop()\n",
    "#Recursive upward adjustment of one element                        \n",
    "    get_source_target(data, step + 1, select_data, target_num)"
   ]
  },
  {
   "cell_type": "code",
   "execution_count": 6,
   "id": "e913c059-8288-4820-8eaf-541b1aeb3196",
   "metadata": {},
   "outputs": [],
   "source": [
    "#Step4 get all edge list\n",
    "def get_alledge_list(data):\n",
    "    df10 = pd.read_csv(data)\n",
    "    #del df10['Unnamed: 0']\n",
    "    #del df10['Unnamed: 0.1']\n",
    "    del df10['#tax_id']\n",
    "    #df10\n",
    "    cloum_name = 'PubMed_ID'\n",
    "    cloum_name1 = 'GeneID'\n",
    "    df11 = df10[df10.groupby('PubMed_ID').GeneID.transform('count') < 100]\n",
    "    df11[cloum_name].value_counts()[:400000]\n",
    "    df12 = df10[df10.groupby('PubMed_ID').GeneID.transform('count') < 2]\n",
    "    df12[cloum_name].value_counts()[:400000]\n",
    "    df13 = df12[cloum_name1].value_counts()[:400000]\n",
    "    df13.to_csv('data/singlegene_paper.csv')\n",
    "    #singlegenepaper_number = len(zz)\n",
    "    #singlegenepaper_number\n",
    "    list = df11[cloum_name].drop_duplicates() #去重\n",
    "    list1 = list.values.tolist()\n",
    "    #len(list1)\n",
    "    group = df11.groupby('PubMed_ID',as_index=False)\n",
    "    #group.count()\n",
    "    df10[cloum_name].value_counts()[:400000] # wihich means that (283489-283161) papers involving with more than 100 genes\n",
    "    len( df10[cloum_name].value_counts()[:400000])# all needed papers(283411)\n",
    "    tmp = sys.stdout\n",
    "    sys.stdout = open('data/cancer4_1_outfile.csv','w')\n",
    "    for i in list:\n",
    "        data = group.get_group(i)\n",
    "        list2 = data['GeneID'].values.tolist()\n",
    "        get_source_target(list2, 0, [], 2) \n",
    "    sys.stdout = tmp #恢复到默认映射关系\n",
    "    df14 = pd.read_csv('data/cancer4_1_outfile.csv',header=None)\n",
    "    df14.columns = ['source','target']\n",
    "    df15 = df14.applymap(lambda x: x.replace('[',''))\n",
    "    df16 = df15.applymap(lambda x: x.replace(']',''))\n",
    "    df16.to_csv('data/cancer4_1_outfile_indexed.csv')\n",
    "    df17 = pd.read_csv('data/cancer4_1_outfile_indexed.csv')\n",
    "    del df17['Unnamed: 0']\n",
    "    df18 = df17.groupby(df17.columns.tolist()).size().reset_index().rename(columns={0:'weight'})\n",
    "    #df18\n",
    "    df18.to_csv('data/cancer_weight.csv',index=0)"
   ]
  },
  {
   "cell_type": "code",
   "execution_count": 7,
   "id": "645e2633-8280-43e5-9bdf-65dd3849c309",
   "metadata": {},
   "outputs": [
    {
     "name": "stdout",
     "output_type": "stream",
     "text": [
      "100% [........................................................................] 57674654 / 57674654"
     ]
    }
   ],
   "source": [
    "download_extract(url='https://ftp.ncbi.nlm.nih.gov/gene/DATA/gene2pubmed.gz')"
   ]
  },
  {
   "cell_type": "code",
   "execution_count": 8,
   "id": "7ff820d5-3ef0-4214-9be2-27f39789981b",
   "metadata": {},
   "outputs": [],
   "source": [
    "download_relatedpaper()"
   ]
  },
  {
   "cell_type": "code",
   "execution_count": 9,
   "id": "24044b36-9a3a-45fc-8ef3-4803e7531294",
   "metadata": {},
   "outputs": [],
   "source": [
    "filter_humangenepaper(dataset='data/cancer6_1.txt')"
   ]
  },
  {
   "cell_type": "code",
   "execution_count": 10,
   "id": "907d6d77-734d-404e-97da-bafff8052180",
   "metadata": {},
   "outputs": [],
   "source": [
    "get_alledge_list(data='data/filtered 9606.csv')"
   ]
  },
  {
   "cell_type": "code",
   "execution_count": 2,
   "id": "e059b83d-0079-468a-ba82-69c5a65cf418",
   "metadata": {},
   "outputs": [
    {
     "data": {
      "text/html": [
       "<div>\n",
       "<style scoped>\n",
       "    .dataframe tbody tr th:only-of-type {\n",
       "        vertical-align: middle;\n",
       "    }\n",
       "\n",
       "    .dataframe tbody tr th {\n",
       "        vertical-align: top;\n",
       "    }\n",
       "\n",
       "    .dataframe thead th {\n",
       "        text-align: right;\n",
       "    }\n",
       "</style>\n",
       "<table border=\"1\" class=\"dataframe\">\n",
       "  <thead>\n",
       "    <tr style=\"text-align: right;\">\n",
       "      <th></th>\n",
       "      <th>source</th>\n",
       "      <th>target</th>\n",
       "      <th>weight</th>\n",
       "    </tr>\n",
       "  </thead>\n",
       "  <tbody>\n",
       "    <tr>\n",
       "      <th>0</th>\n",
       "      <td>1</td>\n",
       "      <td>2</td>\n",
       "      <td>1</td>\n",
       "    </tr>\n",
       "    <tr>\n",
       "      <th>1</th>\n",
       "      <td>1</td>\n",
       "      <td>12</td>\n",
       "      <td>1</td>\n",
       "    </tr>\n",
       "    <tr>\n",
       "      <th>2</th>\n",
       "      <td>1</td>\n",
       "      <td>183</td>\n",
       "      <td>1</td>\n",
       "    </tr>\n",
       "    <tr>\n",
       "      <th>3</th>\n",
       "      <td>1</td>\n",
       "      <td>197</td>\n",
       "      <td>1</td>\n",
       "    </tr>\n",
       "    <tr>\n",
       "      <th>4</th>\n",
       "      <td>1</td>\n",
       "      <td>335</td>\n",
       "      <td>1</td>\n",
       "    </tr>\n",
       "    <tr>\n",
       "      <th>...</th>\n",
       "      <td>...</td>\n",
       "      <td>...</td>\n",
       "      <td>...</td>\n",
       "    </tr>\n",
       "    <tr>\n",
       "      <th>668305</th>\n",
       "      <td>118568805</td>\n",
       "      <td>118568823</td>\n",
       "      <td>1</td>\n",
       "    </tr>\n",
       "    <tr>\n",
       "      <th>668306</th>\n",
       "      <td>118568817</td>\n",
       "      <td>118568823</td>\n",
       "      <td>1</td>\n",
       "    </tr>\n",
       "    <tr>\n",
       "      <th>668307</th>\n",
       "      <td>120807611</td>\n",
       "      <td>120807612</td>\n",
       "      <td>1</td>\n",
       "    </tr>\n",
       "    <tr>\n",
       "      <th>668308</th>\n",
       "      <td>120807611</td>\n",
       "      <td>120807613</td>\n",
       "      <td>1</td>\n",
       "    </tr>\n",
       "    <tr>\n",
       "      <th>668309</th>\n",
       "      <td>120807612</td>\n",
       "      <td>120807613</td>\n",
       "      <td>1</td>\n",
       "    </tr>\n",
       "  </tbody>\n",
       "</table>\n",
       "<p>668310 rows × 3 columns</p>\n",
       "</div>"
      ],
      "text/plain": [
       "           source     target  weight\n",
       "0               1          2       1\n",
       "1               1         12       1\n",
       "2               1        183       1\n",
       "3               1        197       1\n",
       "4               1        335       1\n",
       "...           ...        ...     ...\n",
       "668305  118568805  118568823       1\n",
       "668306  118568817  118568823       1\n",
       "668307  120807611  120807612       1\n",
       "668308  120807611  120807613       1\n",
       "668309  120807612  120807613       1\n",
       "\n",
       "[668310 rows x 3 columns]"
      ]
     },
     "execution_count": 2,
     "metadata": {},
     "output_type": "execute_result"
    }
   ],
   "source": [
    "df19 = pd.read_csv('data/cancer_weight.csv')\n",
    "df19"
   ]
  },
  {
   "cell_type": "code",
   "execution_count": 3,
   "id": "a33cb78c-982c-48ed-8b81-e70a6265f1ad",
   "metadata": {},
   "outputs": [],
   "source": [
    "    df10 = pd.read_csv('data/filtered 9606.csv')\n",
    "    #del df10['Unnamed: 0']\n",
    "    #del df10['Unnamed: 0.1']\n",
    "    del df10['#tax_id']\n",
    "    #df10\n",
    "    cloum_name = 'PubMed_ID'\n",
    "    cloum_name1 = 'GeneID'\n",
    "    df11 = df10[df10.groupby('PubMed_ID').GeneID.transform('count') < 100]\n",
    "    df11[cloum_name].value_counts()[:400000]\n",
    "    df12 = df10[df10.groupby('PubMed_ID').GeneID.transform('count') < 2]\n",
    "    df12[cloum_name].value_counts()[:400000]\n",
    "    df13 = df12[cloum_name1].value_counts()[:400000]\n",
    "    df13.to_csv('data/singlegene_paper.csv')\n",
    "    #singlegenepaper_number = len(zz)\n",
    "    #singlegenepaper_number\n",
    "    list = df11[cloum_name].drop_duplicates() #去重\n",
    "    list1 = list.values.tolist()"
   ]
  },
  {
   "cell_type": "code",
   "execution_count": 10,
   "id": "1795ec9b-863f-4628-ab93-7862b07017c2",
   "metadata": {},
   "outputs": [
    {
     "data": {
      "text/plain": [
       "283081"
      ]
     },
     "execution_count": 10,
     "metadata": {},
     "output_type": "execute_result"
    }
   ],
   "source": [
    "len(df11[cloum_name].value_counts()[:400000]) #all used paper"
   ]
  },
  {
   "cell_type": "code",
   "execution_count": 9,
   "id": "07df8c32-ac85-458a-970b-9a81bb3350b3",
   "metadata": {},
   "outputs": [
    {
     "data": {
      "text/plain": [
       "173449"
      ]
     },
     "execution_count": 9,
     "metadata": {},
     "output_type": "execute_result"
    }
   ],
   "source": [
    "len(df12[cloum_name].value_counts()[:400000]) # single gene paper"
   ]
  },
  {
   "cell_type": "code",
   "execution_count": 12,
   "id": "7a668e31-f835-447c-b4e0-f5f7fdc0a999",
   "metadata": {},
   "outputs": [
    {
     "data": {
      "text/plain": [
       "7157         3256\n",
       "1956         2396\n",
       "2064         1460\n",
       "673          1250\n",
       "3845         1094\n",
       "             ... \n",
       "100113382       1\n",
       "101929983       1\n",
       "574477          1\n",
       "5345            1\n",
       "8813            1\n",
       "Name: GeneID, Length: 13077, dtype: int64"
      ]
     },
     "execution_count": 12,
     "metadata": {},
     "output_type": "execute_result"
    }
   ],
   "source": [
    "df12[cloum_name1].value_counts()[:400000]"
   ]
  },
  {
   "cell_type": "code",
   "execution_count": 15,
   "id": "feb01e09-c735-4f2d-80b5-32b22e9abd27",
   "metadata": {},
   "outputs": [
    {
     "data": {
      "text/plain": [
       "7157         8397\n",
       "1956         5120\n",
       "672          3001\n",
       "2064         2956\n",
       "3845         2588\n",
       "             ... \n",
       "139886          1\n",
       "441432          1\n",
       "100240709       1\n",
       "553989          1\n",
       "100129148       1\n",
       "Name: GeneID, Length: 19431, dtype: int64"
      ]
     },
     "execution_count": 15,
     "metadata": {},
     "output_type": "execute_result"
    }
   ],
   "source": [
    "df11[cloum_name].value_counts()[:400000]"
   ]
  },
  {
   "cell_type": "code",
   "execution_count": 17,
   "id": "35adb0cb-d3a4-4107-b9fa-353fb004415f",
   "metadata": {},
   "outputs": [
    {
     "data": {
      "text/plain": [
       "12477932    19898\n",
       "32296183     8303\n",
       "27701403     6656\n",
       "34079125     4404\n",
       "25416956     4395\n",
       "            ...  \n",
       "1717141         1\n",
       "32407961        1\n",
       "24886180        1\n",
       "32232361        1\n",
       "30414845        1\n",
       "Name: PubMed_ID, Length: 283411, dtype: int64"
      ]
     },
     "execution_count": 17,
     "metadata": {},
     "output_type": "execute_result"
    }
   ],
   "source": [
    "df10[cloum_name].value_counts()[:4000000] #all paper"
   ]
  },
  {
   "cell_type": "code",
   "execution_count": 15,
   "id": "5e40a6b1-b9d9-439e-bdcf-808838aafe89",
   "metadata": {},
   "outputs": [],
   "source": [
    "dd = df12[cloum_name1].value_counts()[:400000]"
   ]
  },
  {
   "cell_type": "code",
   "execution_count": 16,
   "id": "716be80a-b5bc-4bb3-bf41-8c0986e19fae",
   "metadata": {},
   "outputs": [],
   "source": [
    "dd.to_csv('sgpaper_gene.csv')"
   ]
  }
 ],
 "metadata": {
  "kernelspec": {
   "display_name": "Python 3 (ipykernel)",
   "language": "python",
   "name": "python3"
  },
  "language_info": {
   "codemirror_mode": {
    "name": "ipython",
    "version": 3
   },
   "file_extension": ".py",
   "mimetype": "text/x-python",
   "name": "python",
   "nbconvert_exporter": "python",
   "pygments_lexer": "ipython3",
   "version": "3.9.7"
  }
 },
 "nbformat": 4,
 "nbformat_minor": 5
}
